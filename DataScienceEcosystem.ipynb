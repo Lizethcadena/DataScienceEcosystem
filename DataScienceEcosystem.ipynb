{
 "cells": [
  {
   "cell_type": "markdown",
   "id": "90a1f262",
   "metadata": {},
   "source": [
    "# Data Science Tools and Ecosystem"
   ]
  },
  {
   "cell_type": "markdown",
   "id": "66389636",
   "metadata": {},
   "source": [
    "## In this notebook, Data Science Tools and Ecosystem are summarized."
   ]
  },
  {
   "cell_type": "markdown",
   "id": "c9de3502",
   "metadata": {},
   "source": [
    "**Objectives:**\n",
    "\n",
    "* Expresiones aritmeticas\n",
    "* Listas ordenadas\n",
    "* Listas no ordenadas\n",
    "* Tablas"
   ]
  },
  {
   "cell_type": "markdown",
   "id": "2972cdca",
   "metadata": {},
   "source": [
    "### Some of the popular languages that Data Scientists use are:"
   ]
  },
  {
   "cell_type": "markdown",
   "id": "b2517cc2",
   "metadata": {},
   "source": [
    "1) Python \n",
    "2) R \n",
    "3) SQL "
   ]
  },
  {
   "cell_type": "markdown",
   "id": "ad897e18",
   "metadata": {},
   "source": [
    "| Data Science Tools |\n",
    "| --- |\n",
    "| Jupyter Lab |\n",
    "| Anaconda |\n",
    "| VS Code |"
   ]
  },
  {
   "cell_type": "markdown",
   "id": "fbbb42b9",
   "metadata": {},
   "source": [
    "# Some of the commonly used libraries used by Data Scientists include:\n",
    "\n",
    "1) Nnmpy\n",
    "2) pandas\n",
    "3) dplyr"
   ]
  },
  {
   "cell_type": "markdown",
   "id": "0e1b1fc2",
   "metadata": {},
   "source": [
    "### Below are a few examples of evaluating arithmetic expressions in Python"
   ]
  },
  {
   "cell_type": "code",
   "execution_count": 3,
   "id": "ccfad0a4",
   "metadata": {},
   "outputs": [
    {
     "data": {
      "text/plain": [
       "17"
      ]
     },
     "execution_count": 3,
     "metadata": {},
     "output_type": "execute_result"
    }
   ],
   "source": [
    "#  This a simple arithmetic expression to mutiply then add integers\n",
    "(3*4)+5"
   ]
  },
  {
   "cell_type": "code",
   "execution_count": 5,
   "id": "9b84598d",
   "metadata": {
    "scrolled": true
   },
   "outputs": [
    {
     "name": "stdout",
     "output_type": "stream",
     "text": [
      "3.3333333333333335  hours\n"
     ]
    }
   ],
   "source": [
    "#  This will convert 200 minutes to hours by diving by 60\n",
    "minutos = 200\n",
    "horas = minutos / 60\n",
    "\n",
    "print(horas, \" hours\")"
   ]
  },
  {
   "cell_type": "markdown",
   "id": "90119ff5",
   "metadata": {},
   "source": [
    "## Author\n",
    "Lizeth Dignory Cadena Espinosa"
   ]
  }
 ],
 "metadata": {
  "kernelspec": {
   "display_name": "Python 3 (ipykernel)",
   "language": "python",
   "name": "python3"
  },
  "language_info": {
   "codemirror_mode": {
    "name": "ipython",
    "version": 3
   },
   "file_extension": ".py",
   "mimetype": "text/x-python",
   "name": "python",
   "nbconvert_exporter": "python",
   "pygments_lexer": "ipython3",
   "version": "3.11.5"
  }
 },
 "nbformat": 4,
 "nbformat_minor": 5
}
